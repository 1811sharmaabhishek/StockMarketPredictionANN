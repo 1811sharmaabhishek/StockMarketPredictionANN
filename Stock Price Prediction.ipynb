{
 "cells": [
  {
   "cell_type": "code",
   "execution_count": 10,
   "id": "55ca2b51",
   "metadata": {},
   "outputs": [],
   "source": [
    "import numpy as np\n",
    "import pandas as pd\n",
    "from sklearn.linear_model import LinearRegression\n",
    "from sklearn import preprocessing\n",
    "from sklearn.model_selection import train_test_split"
   ]
  },
  {
   "cell_type": "code",
   "execution_count": 11,
   "id": "0866ac89",
   "metadata": {},
   "outputs": [],
   "source": [
    "def prepare_data(df,forecast_col,forecast_out,test_size):\n",
    "    label = df[forecast_col].shift(-forecast_out) #creating new column called label with the last 5 rows are nan\n",
    "    X = np.array(df[[forecast_col]]) #creating the feature array\n",
    "    X = preprocessing.scale(X) #processing the feature array\n",
    "    X_lately = X[-forecast_out:] #creating the column i want to use later in the predicting method\n",
    "    X = X[:-forecast_out] # X that will contain the training and testing\n",
    "    label.dropna(inplace=True) #dropping na values\n",
    "    y = np.array(label)  # assigning Y\n",
    "    X_train, X_test, Y_train, Y_test = train_test_split(X, y, test_size=test_size, random_state=0) #cross validation\n",
    "\n",
    "    response = [X_train,X_test , Y_train, Y_test , X_lately]\n",
    "    return response"
   ]
  },
  {
   "cell_type": "code",
   "execution_count": 12,
   "id": "964960d8",
   "metadata": {},
   "outputs": [],
   "source": [
    "df = pd.read_csv(\"^NSEI.csv\")"
   ]
  },
  {
   "cell_type": "code",
   "execution_count": 13,
   "id": "de5c65de",
   "metadata": {},
   "outputs": [
    {
     "data": {
      "text/html": [
       "<div>\n",
       "<style scoped>\n",
       "    .dataframe tbody tr th:only-of-type {\n",
       "        vertical-align: middle;\n",
       "    }\n",
       "\n",
       "    .dataframe tbody tr th {\n",
       "        vertical-align: top;\n",
       "    }\n",
       "\n",
       "    .dataframe thead th {\n",
       "        text-align: right;\n",
       "    }\n",
       "</style>\n",
       "<table border=\"1\" class=\"dataframe\">\n",
       "  <thead>\n",
       "    <tr style=\"text-align: right;\">\n",
       "      <th></th>\n",
       "      <th>Date</th>\n",
       "      <th>Open</th>\n",
       "      <th>High</th>\n",
       "      <th>Low</th>\n",
       "      <th>Close</th>\n",
       "      <th>Adj Close</th>\n",
       "      <th>Volume</th>\n",
       "    </tr>\n",
       "  </thead>\n",
       "  <tbody>\n",
       "    <tr>\n",
       "      <th>0</th>\n",
       "      <td>8/17/2020</td>\n",
       "      <td>11248.90039</td>\n",
       "      <td>11267.09961</td>\n",
       "      <td>11144.50000</td>\n",
       "      <td>11247.09961</td>\n",
       "      <td>11247.09961</td>\n",
       "      <td>634000</td>\n",
       "    </tr>\n",
       "    <tr>\n",
       "      <th>1</th>\n",
       "      <td>8/18/2020</td>\n",
       "      <td>11259.79981</td>\n",
       "      <td>11401.70020</td>\n",
       "      <td>11253.15039</td>\n",
       "      <td>11385.34961</td>\n",
       "      <td>11385.34961</td>\n",
       "      <td>579200</td>\n",
       "    </tr>\n",
       "    <tr>\n",
       "      <th>2</th>\n",
       "      <td>8/19/2020</td>\n",
       "      <td>11452.15039</td>\n",
       "      <td>11460.34961</td>\n",
       "      <td>11394.09961</td>\n",
       "      <td>11408.40039</td>\n",
       "      <td>11408.40039</td>\n",
       "      <td>626200</td>\n",
       "    </tr>\n",
       "    <tr>\n",
       "      <th>3</th>\n",
       "      <td>8/20/2020</td>\n",
       "      <td>11317.45020</td>\n",
       "      <td>11361.45020</td>\n",
       "      <td>11289.79981</td>\n",
       "      <td>11312.20020</td>\n",
       "      <td>11312.20020</td>\n",
       "      <td>791600</td>\n",
       "    </tr>\n",
       "    <tr>\n",
       "      <th>4</th>\n",
       "      <td>8/21/2020</td>\n",
       "      <td>11409.65039</td>\n",
       "      <td>11418.50000</td>\n",
       "      <td>11362.20020</td>\n",
       "      <td>11371.59961</td>\n",
       "      <td>11371.59961</td>\n",
       "      <td>668700</td>\n",
       "    </tr>\n",
       "  </tbody>\n",
       "</table>\n",
       "</div>"
      ],
      "text/plain": [
       "        Date         Open         High          Low        Close    Adj Close  \\\n",
       "0  8/17/2020  11248.90039  11267.09961  11144.50000  11247.09961  11247.09961   \n",
       "1  8/18/2020  11259.79981  11401.70020  11253.15039  11385.34961  11385.34961   \n",
       "2  8/19/2020  11452.15039  11460.34961  11394.09961  11408.40039  11408.40039   \n",
       "3  8/20/2020  11317.45020  11361.45020  11289.79981  11312.20020  11312.20020   \n",
       "4  8/21/2020  11409.65039  11418.50000  11362.20020  11371.59961  11371.59961   \n",
       "\n",
       "   Volume  \n",
       "0  634000  \n",
       "1  579200  \n",
       "2  626200  \n",
       "3  791600  \n",
       "4  668700  "
      ]
     },
     "execution_count": 13,
     "metadata": {},
     "output_type": "execute_result"
    }
   ],
   "source": [
    "df.head()"
   ]
  },
  {
   "cell_type": "code",
   "execution_count": 14,
   "id": "835dac12",
   "metadata": {},
   "outputs": [],
   "source": [
    "forecast_col = 'Close'\n",
    "forecast_out = 5\n",
    "test_size = 0.2"
   ]
  },
  {
   "cell_type": "code",
   "execution_count": 15,
   "id": "00e577ef",
   "metadata": {},
   "outputs": [
    {
     "data": {
      "text/plain": [
       "LinearRegression()"
      ]
     },
     "execution_count": 15,
     "metadata": {},
     "output_type": "execute_result"
    }
   ],
   "source": [
    "X_train, X_test, Y_train, Y_test , X_lately =prepare_data(df,forecast_col,forecast_out,test_size); #calling the method were the cross validation and data preperation is in\n",
    "learner = LinearRegression() #initializing linear regression model\n",
    "\n",
    "learner.fit(X_train,Y_train) #training the linear regression model"
   ]
  },
  {
   "cell_type": "code",
   "execution_count": 16,
   "id": "ba05905a",
   "metadata": {},
   "outputs": [
    {
     "name": "stdout",
     "output_type": "stream",
     "text": [
      "{'test_score': 0.9600271260567512, 'forecast_set': array([16319.75194237, 16321.8322968 , 16401.30714912, 16560.64231707,\n",
      "       16588.11774112])}\n"
     ]
    }
   ],
   "source": [
    "score=learner.score(X_test,Y_test)#testing the linear regression model\n",
    "forecast= learner.predict(X_lately) #set that will contain the forecasted data\n",
    "response={}#creting json object\n",
    "response['test_score']=score\n",
    "response['forecast_set']=forecast\n",
    "\n",
    "print(response)"
   ]
  }
 ],
 "metadata": {
  "kernelspec": {
   "display_name": "Python 3",
   "language": "python",
   "name": "python3"
  },
  "language_info": {
   "codemirror_mode": {
    "name": "ipython",
    "version": 3
   },
   "file_extension": ".py",
   "mimetype": "text/x-python",
   "name": "python",
   "nbconvert_exporter": "python",
   "pygments_lexer": "ipython3",
   "version": "3.8.8"
  }
 },
 "nbformat": 4,
 "nbformat_minor": 5
}
