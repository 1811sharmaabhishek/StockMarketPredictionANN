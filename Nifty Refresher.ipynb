{
 "cells": [
  {
   "cell_type": "code",
   "execution_count": 1,
   "id": "4fe3f75a",
   "metadata": {},
   "outputs": [],
   "source": [
    "import pandas as pd\n",
    "import datetime\n",
    "import time\n",
    "import requests\n",
    "import io"
   ]
  },
  {
   "cell_type": "code",
   "execution_count": 2,
   "id": "bae64fa7",
   "metadata": {},
   "outputs": [],
   "source": [
    "import yfinance as yf"
   ]
  },
  {
   "cell_type": "code",
   "execution_count": 3,
   "id": "21fd68ac",
   "metadata": {},
   "outputs": [],
   "source": [
    "start = datetime.datetime(2021,5,18)\n",
    "end = datetime.datetime(2021,8,18)"
   ]
  },
  {
   "cell_type": "code",
   "execution_count": 4,
   "id": "9e7f9877",
   "metadata": {},
   "outputs": [],
   "source": [
    "companies = pd.read_csv(\"ind_nifty200list.csv\")"
   ]
  },
  {
   "cell_type": "code",
   "execution_count": 5,
   "id": "7c4289d6",
   "metadata": {},
   "outputs": [],
   "source": [
    "Symbols = companies['Symbol'].tolist()"
   ]
  },
  {
   "cell_type": "code",
   "execution_count": 6,
   "id": "f0a45d39",
   "metadata": {},
   "outputs": [],
   "source": [
    "Symbols = [s+'.NS' for s in Symbols ]"
   ]
  },
  {
   "cell_type": "code",
   "execution_count": 7,
   "id": "e63d7869",
   "metadata": {
    "scrolled": true
   },
   "outputs": [
    {
     "name": "stdout",
     "output_type": "stream",
     "text": [
      "0 : ACC.NS,1 : AUBANK.NS,2 : AARTIIND.NS,3 : ABBOTINDIA.NS,4 : ADANIENT.NS,5 : ADANIGREEN.NS,6 : ADANIPORTS.NS,7 : ATGL.NS,8 : ADANITRANS.NS,9 : ABCAPITAL.NS,10 : ABFRL.NS,11 : AJANTPHARM.NS,12 : APLLTD.NS,13 : ALKEM.NS,14 : AMARAJABAT.NS,15 : AMBUJACEM.NS,16 : APOLLOHOSP.NS,17 : APOLLOTYRE.NS,18 : ASHOKLEY.NS,19 : ASIANPAINT.NS,20 : AUROPHARMA.NS,21 : DMART.NS,22 : AXISBANK.NS,23 : BAJAJ-AUTO.NS,24 : BAJFINANCE.NS,25 : BAJAJFINSV.NS,26 : BAJAJHLDNG.NS,27 : BALKRISIND.NS,28 : BANDHANBNK.NS,29 : BANKBARODA.NS,30 : BANKINDIA.NS,31 : BATAINDIA.NS,32 : BERGEPAINT.NS,33 : BEL.NS,34 : BHARATFORG.NS,35 : BHEL.NS,36 : BPCL.NS,37 : BHARTIARTL.NS,38 : BIOCON.NS,39 : BBTC.NS,40 : BOSCHLTD.NS,41 : BRITANNIA.NS,42 : CESC.NS,43 : CADILAHC.NS,44 : CANBK.NS,45 : CASTROLIND.NS,46 : CHOLAFIN.NS,47 : CIPLA.NS,48 : CUB.NS,49 : COALINDIA.NS,50 : COFORGE.NS,51 : COLPAL.NS,52 : CONCOR.NS,53 : COROMANDEL.NS,54 : CROMPTON.NS,55 : CUMMINSIND.NS,56 : DLF.NS,57 : DABUR.NS,58 : DALBHARAT.NS,59 : DEEPAKNTR.NS,60 : DHANI.NS,61 : DIVISLAB.NS,62 : DIXON.NS,63 : LALPATHLAB.NS,64 : DRREDDY.NS,65 : EICHERMOT.NS,66 : EMAMILTD.NS,67 : ENDURANCE.NS,68 : ESCORTS.NS,69 : EXIDEIND.NS,70 : FEDERALBNK.NS,71 : FORTIS.NS,72 : GAIL.NS,73 : GMRINFRA.NS,74 : GLAND.NS,75 : GLENMARK.NS,76 : GODREJAGRO.NS,77 : GODREJCP.NS,78 : GODREJIND.NS,79 : GODREJPROP.NS,80 : GRASIM.NS,81 : GUJGASLTD.NS,82 : GSPL.NS,83 : HCLTECH.NS,84 : HDFCAMC.NS,85 : HDFCBANK.NS,86 : HDFCLIFE.NS,87 : HAVELLS.NS,88 : HEROMOTOCO.NS,89 : HINDALCO.NS,90 : HAL.NS,91 : HINDPETRO.NS,92 : HINDUNILVR.NS,93 : HINDZINC.NS,94 : HDFC.NS,95 : ICICIBANK.NS,96 : ICICIGI.NS,97 : ICICIPRULI.NS,98 : ISEC.NS,99 : IDFCFIRSTB.NS,100 : ITC.NS,101 : IBULHSGFIN.NS,102 : INDIAMART.NS,103 : INDHOTEL.NS,104 : IOC.NS,105 : IRCTC.NS,106 : IGL.NS,107 : INDUSTOWER.NS,108 : INDUSINDBK.NS,109 : NAUKRI.NS,110 : INFY.NS,111 : INDIGO.NS,112 : IPCALAB.NS,113 : JSWENERGY.NS,114 : JSWSTEEL.NS,115 : JINDALSTEL.NS,116 : JUBLFOOD.NS,117 : KOTAKBANK.NS,118 : L&TFH.NS,119 : LTTS.NS,120 : LICHSGFIN.NS,121 : LTI.NS,122 : LT.NS,123 : LAURUSLABS.NS,124 : LUPIN.NS,125 : MRF.NS,126 : MGL.NS,127 : M&MFIN.NS,128 : M&M.NS,129 : MANAPPURAM.NS,130 : MARICO.NS,131 : MARUTI.NS,132 : MFSL.NS,133 : MINDTREE.NS,134 : MPHASIS.NS,135 : MUTHOOTFIN.NS,136 : NATCOPHARM.NS,137 : NMDC.NS,138 : NTPC.NS,139 : NAVINFLUOR.NS,140 : NESTLEIND.NS,141 : NAM-INDIA.NS,142 : OBEROIRLTY.NS,143 : ONGC.NS,144 : OIL.NS,145 : PIIND.NS,146 : PAGEIND.NS,147 : PETRONET.NS,148 : PFIZER.NS,149 : PIDILITIND.NS,150 : PEL.NS,151 : POLYCAB.NS,152 : PFC.NS,153 : POWERGRID.NS,154 : PRESTIGE.NS,155 : PGHH.NS,156 : PNB.NS,157 : RBLBANK.NS,158 : RECLTD.NS,159 : RELIANCE.NS,160 : SBICARD.NS,161 : SBILIFE.NS,162 : SRF.NS,163 : SANOFI.NS,164 : SHREECEM.NS,165 : SRTRANSFIN.NS,166 : SIEMENS.NS,167 : SBIN.NS,168 : SAIL.NS,169 : SUNPHARMA.NS,170 : SUNTV.NS,171 : SYNGENE.NS,172 : TVSMOTOR.NS,173 : TATACHEM.NS,174 : TCS.NS,175 : TATACONSUM.NS,176 : TATAELXSI.NS,177 : TATAMOTORS.NS,178 : TATAPOWER.NS,179 : TATASTEEL.NS,180 : TECHM.NS,181 : RAMCOCEM.NS,182 : TITAN.NS,183 : TORNTPHARM.NS,184 : TORNTPOWER.NS,185 : TRENT.NS,186 : UPL.NS,187 : ULTRACEMCO.NS,188 : UNIONBANK.NS,189 : UBL.NS,190 : MCDOWELL-N.NS,191 : VGUARD.NS,192 : VBL.NS,193 : VEDL.NS,194 : IDEA.NS,195 : VOLTAS.NS,196 : WHIRLPOOL.NS,197 : WIPRO.NS,198 : YESBANK.NS,199 : ZEEL.NS,"
     ]
    }
   ],
   "source": [
    "# iterate over each symbol\n",
    "for i in Symbols:  \n",
    "    \n",
    "    # print the symbol which is being downloaded\n",
    "    print( str(Symbols.index(i)) + str(' : ') + i, sep=',', end=',', flush=True)  \n",
    "    \n",
    "    try:\n",
    "        # download the stock price \n",
    "        stock = []\n",
    "        stock = yf.download(i,start=start, end=end, progress=False)\n",
    "        \n",
    "        # append the individual stock prices \n",
    "        if len(stock) == 0:\n",
    "            None\n",
    "        else:\n",
    "            stock.to_csv(f\"NiftyStocks\\{i}.csv\")\n",
    "    except Exception:\n",
    "        None"
   ]
  }
 ],
 "metadata": {
  "kernelspec": {
   "display_name": "Python 3",
   "language": "python",
   "name": "python3"
  },
  "language_info": {
   "codemirror_mode": {
    "name": "ipython",
    "version": 3
   },
   "file_extension": ".py",
   "mimetype": "text/x-python",
   "name": "python",
   "nbconvert_exporter": "python",
   "pygments_lexer": "ipython3",
   "version": "3.8.8"
  }
 },
 "nbformat": 4,
 "nbformat_minor": 5
}
